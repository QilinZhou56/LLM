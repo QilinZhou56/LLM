{
 "cells": [
  {
   "cell_type": "markdown",
   "metadata": {},
   "source": [
    "One of the simplest ways to run an LLM locally is using a llamafile. All you need to do is:\n",
    "\n",
    "1. Download a llamafile from HuggingFace\n",
    "2. Make the file executable\n",
    "3. Run the file"
   ]
  },
  {
   "cell_type": "markdown",
   "metadata": {},
   "source": [
    "##### 1. Download a llamafile from HuggingFace\n",
    "wget https://huggingface.co/jartine/TinyLlama-1.1B-Chat-v1.0-GGUF/resolve/main/TinyLlama-1.1B-Chat-v1.0.Q5_K_M.llamafile\n",
    "\n",
    "##### 2. Make the file executable. On Windows, instead just rename the file to end in \".exe\".\n",
    "chmod +x TinyLlama-1.1B-Chat-v1.0.Q5_K_M.llamafile\n",
    "\n",
    "##### 3. Start the model server. Listens at http://localhost:8080 by default.\n",
    "./TinyLlama-1.1B-Chat-v1.0.Q5_K_M.llamafile --server --nobrowser"
   ]
  },
  {
   "cell_type": "code",
   "execution_count": 8,
   "metadata": {},
   "outputs": [],
   "source": [
    "from langchain_community.llms.llamafile import Llamafile"
   ]
  },
  {
   "cell_type": "code",
   "execution_count": 23,
   "metadata": {},
   "outputs": [
    {
     "data": {
      "text/plain": [
       "'\\n\\nJOKE 6: (laughs) \"I\\'m a little lost, can you help me find my way?\"\\n\\nACTOR 1: (sighs) No, I\\'m not a joke. You\\'re making a fool out of yourself.\\n\\nJOKE 7: (smirks) \"A man, a woman, and a mouse walk into a bar... I gotta admit, the mouse was my best friend.\"\\n\\nACTOR 2: (laughs) Yeah, that one stung. But don\\'t worry, you\\'re not alone in your misfortunes - the rest of the group is here to lend a helping hand.\\n\\nJOKE 8: \"My wife and I tried to have a picnic, but it rained so hard that we had to retreat back inside.\"\\n\\nACTOR 3: (smiles) That\\'s a classic. I feel like the world would be a better place with more people like you who make fun of each other.\\n\\nJOKE 9: \"I met this guy at a coffee shop and he seemed so charming, but he had a creepy habit of sneaking in my bag.\"\\n\\nACTOR 4: (laughs) I have news for you, there\\'s no such thing as a charming man. But I\\'m glad we can all agree on that fact.\\n\\nJOKE 10: \"I got lost in the woods one day and ended up at an abandoned amusement park.\"\\n\\nACTOR 5: (shrugs) Well, at least you didn\\'t get lost in a real-life amusement park.\\n\\nACT 1\\n\\n(Scene opens with a group of friends gathered in a coffee shop.)\\n\\nJOKE 1: (begins telling jokes) \"I walked into the bathroom and found myself face down in the toilet seat.\"\\n\\nACTOR 1: (smiles) Well, at least you didn\\'t get stuck like this guy.\\n\\nJOKE 2: (starts recounting a ridiculous story) \"The cafeteria at school was so crowded that I had to stand in line for an hour just to get a plate of food.\"\\n\\nACTOR 2: (smirks) Well, at least you weren\\'t stuck in a long line at the cafeteria.\\n\\nJOKE 3: (starts recounting a hilarious event) \"I went on a solo road trip to find myself and ended up crashing my car in the middle of nowhere.\"\\n\\nACTOR 3: (smiles) Well, at least you didn\\'t get stuck in the middle of nowhere with nothing but your car.\\n\\nJOKE 4: (starts recounting a sad story) \"I met this guy at a party and he seemed so charming, but he had a habit of chewing his nails for hours on end.\"\\n\\nACTOR 4: (laughs) I have news for you, there\\'s no such thing as a charming man. But I\\'m glad we can all agree on that fact.\\n\\nJOKE 5: \"I went to a wedding and ended up in the wrong dress.\"\\n\\nACTOR 1: (smiles) Well, at least you weren\\'t stuck in a dress.\\n\\nJOKE 6: (starts recounting a funny moment) \"I was driving down the highway when I saw this cute guy on my right and I thought to myself, \\'What if he\\'s my soulmate?\\' But then I saw him on the other side of the road and I thought to myself, \\'No, I can\\'t have that guy in my life.\\'\"\\n\\nACTOR 2: (laughs) Well, at least you didn\\'t end up with your dream guy.\\n\\nJOKE 7: \"I went on a date with this girl and she seemed so funny, but she had a habit of leaving the room whenever we talked about our feelings.\"\\n\\nACTOR 3: (smiles) That\\'s a classic. I feel like the world would be a better place with more people who can make us laugh.\\n\\nJOKE 8: \"I was walking down the street and saw this guy with a sign that read, \\'If you want something, ask me.\\' But then I asked him for a cup of coffee, and he said, \\'No thanks, I already have my coffee.\\'\"\\n\\nACTOR 4: (laughs) That\\'s one of the best jokes I\\'ve ever heard.\\n\\nJOKE 9: \"I met this guy at a party and he seemed so charming, but he had a habit of saying the wrong things.\"\\n\\nACTOR 5: (smiles) Well, at least you didn\\'t end up with someone who can\\'t keep his/her mouth shut.\\n\\nJOKE 10: \"I went to a fancy party and ended up in this dark hallway, where there was nothing but silence for hours.\"\\n\\nACTOR 5: (shrugs) Well, at least you didn\\'t end up with a noisy room.\\n\\nACT 2\\n\\n(Scene opens with the group of friends sitting around a table in a coffee shop.)\\n\\nJOKE 1: \"I got lost in the grocery store and ended up at the meat section.\"\\n\\nACTOR 1: (smiles) Well, at least you weren\\'t stuck in a supermarket.\\n\\nJOKE 2: (starts recounting a silly story) \"The cashier at the bank asked me if I had any savings, and I said, \\'Yes, there are ten thousand dollars in my account.\\'\"\\n\\nACTOR 2: (laughs) Well, that\\'s definitely not what they were expecting.\\n\\nJOKE 3: \"I was walking down the street and saw this guy with a sign that read, \\'If you want something, ask me.\\' But then I asked him for directions and he said, \\'No thanks, I already know where I\\'m going.\\'\"\\n\\nACTOR 3: (smiles) That\\'s one of the best jokes ever.\\n\\nJOKE 4: \"I went to a movie and ended up in this dark corner, where there was nothing but silence for hours.\"\\n\\nACTOR 1: (shrugs) Well, at least you didn\\'t end up with a loud movie theater.\\n\\nJOKE 5: \"I met this guy at a party and he seemed so charming, but he had a habit of leaving before we could talk.\"\\n\\nACTOR 2: (smirks) At least he wasn\\'t there to ruin your night.\\n\\nJOKE 6: \"I was walking down the street and saw this guy with a sign that read, \\'If you want something, ask me.\\' But then I asked him for a cup of coffee, and he said, \\'No thanks, I already have my coffee.\\'\"\\n\\nACTOR 3: (smiles) Well, at least you didn\\'t end up with someone who was already drinking his own coffee.\\n\\nJOKE 7: \"I went to a fancy party and ended up in this dark hallway, where there was nothing but silence for hours.\"\\n\\nACTOR 4: (shrugs) Well, at least you didn\\'t end up with a noisy room.\\n\\nJOKE 8: \"I went on a date with this girl and she seemed so funny, but she had a habit of leaving the room whenever we talked about our feelings.\"\\n\\nACTOR 5: (smiles) That\\'s a classic. I feel like the world would be a better place with more people who can make us laugh.\\n\\nJOKE 9: \"I was walking down the street and saw this guy with a sign that read, \\'If you want something, ask me.\\' But then I asked him for directions and he said, \\'No thanks, I already know where I\\'m going.\\'\"\\n\\nACTOR 1: (laughs) At least you didn\\'t end up with someone who was already going somewhere.\\n\\nJOKE 10: \"I met this guy at a party and he seemed so charming, but he had a habit of saying the wrong things.\"\\n\\nACTOR 2: (smiles) Well, at least you didn\\'t end up with someone who can\\'t keep their mouth shut.'"
      ]
     },
     "execution_count": 23,
     "metadata": {},
     "output_type": "execute_result"
    }
   ],
   "source": [
    "llm = Llamafile()\n",
    "\n",
    "llm.invoke(\"tell me a joke.\")"
   ]
  },
  {
   "cell_type": "code",
   "execution_count": 42,
   "metadata": {},
   "outputs": [
    {
     "name": "stdout",
     "output_type": "stream",
     "text": [
      "Chatbot initialized, ready to chat... (type 'quit' to exit)\n",
      "Once upon a time, in a far-off land, there was a magical kingdom called \"Happily Ever Laughter.\"\n",
      "\n",
      "End of the story. \n",
      "\n",
      "\n",
      "Xiao Yue was a young woman who lived in a small village nestled in the mountains. She was known throughout the village for her exceptional beauty and grace, but she was also fiercely independent and determined. Despite her beauty, Xiao Yue was not interested in marriage or romantic relationships, preferring to spend her days exploring the mountains and forests that surrounded her home.\n",
      "One day, a young man named Shen came to the village seeking medical attention for his ailing mother. Shen was strong and handsome, with piercing blue eyes and jet black hair. He was immediately drawn to Xiao Yue's beauty and grace, but she rebuffed his advances at every turn.\n",
      "Despite her initial resistance, Shen continued to pursue Xiao Yue, determined to win her heart. He spent his days helping her with her chores and exploring the mountains with her, slowly but surely winning her over. As they spent more time together, Xiao Yue found herself falling for Shen, despite her initial reservations.\n",
      "But just as things were starting to look up for Xiao Yue and Shen, a terrible storm swept through the village, destroying homes \n",
      "\n",
      "Xiao Yue and Shen were determined to find a way to save the villagers. They knew that they had to act fast, as the fire was spreading quickly and the villagers were in grave danger.\n",
      "They decided to search for any available water sources in the nearby area to extinguish the fire. After some searching, they found a small stream that flowed through the forest. Xiao Yue and Shen quickly filled up buckets with water from the stream and began to use them to douse the flames.\n",
      "As they worked tirelessly to put out the fire, they noticed that the villagers were starting to panic and flee their homes in fear. Xiao Yue and Shen knew they had to act fast to calm the villagers down and stop them from causing more harm.\n",
      "They ran towards the villagers, shouting reassurances and telling them to stay calm. They managed to convince some of the villagers to return to their homes and wait for help to arrive.\n",
      "Thanks to Xiao Yue and Shen's quick thinking and bravery, they were able to save many of the villagers from the fire. Although some homes were destroyed, no one was seriously injured \n",
      "\n",
      "\n",
      "As the years passed, the town of Willow Creek continued to thrive. The legend of the ghostly figure in the woods grew, and people would often venture into the forest to catch a glimpse of the mysterious being. Some claimed to have seen it, others claimed to have heard it whisper their name. But no one ever saw it again after that fateful night.\n",
      "Years later, a group of teenagers stumbled upon an old, abandoned cabin deep in the woods. As they explored the dilapidated structure, they discovered a dusty old book hidden away in the attic. The cover was worn and faded, but as they opened it, they saw that it was filled with pages of handwritten text.\n",
      "As they began to read, they realized that it was a diary written by none other than Old Man Johnson himself. And as they turned the pages, they discovered the truth about what had happened all those years ago.\n",
      "According to the diary, Old Man Johnson had been an old man who lived in the woods and was known for his strange behavior. He would often be seen wandering around the town at night, muttering to himself and causing trouble for the local children \n",
      "\n",
      "Exiting chatbot.\n"
     ]
    }
   ],
   "source": [
    "from langchain_community.llms import LlamaCpp\n",
    "from langchain.prompts import PromptTemplate\n",
    "from langchain.chains import LLMChain\n",
    "\n",
    "# Load the LlamaCpp language model, adjust GPU usage based on your hardware\n",
    "llm = LlamaCpp(\n",
    "    model_path=\"/Users/qilinzhou/llama-2-7b-chat.Q4_K_M.gguf\",\n",
    "    verbose=False,  # Enable detailed logging for debugging\n",
    ")\n",
    "\n",
    "# Define the prompt template with a placeholder for the question\n",
    "template = \"\"\"\n",
    "Question: {question}\n",
    "\n",
    "Answer:\n",
    "\"\"\"\n",
    "prompt = PromptTemplate(template=template, input_variables=[\"question\"])\n",
    "\n",
    "# Create an LLMChain to manage interactions with the prompt and model\n",
    "llm_chain = LLMChain(prompt=prompt, llm=llm)\n",
    "\n",
    "print(\"Chatbot initialized, ready to chat... (type 'quit' to exit)\")\n",
    "while True:\n",
    "    question = input(\"> \")\n",
    "    if question.lower() == \"quit\":  # Check if the user wants to quit\n",
    "        print(\"Exiting chatbot.\")\n",
    "        break  # Exit the loop\n",
    "    answer = llm_chain.run(question)\n",
    "    print(answer, \"\\n\")"
   ]
  }
 ],
 "metadata": {
  "kernelspec": {
   "display_name": "base",
   "language": "python",
   "name": "python3"
  },
  "language_info": {
   "codemirror_mode": {
    "name": "ipython",
    "version": 3
   },
   "file_extension": ".py",
   "mimetype": "text/x-python",
   "name": "python",
   "nbconvert_exporter": "python",
   "pygments_lexer": "ipython3",
   "version": "3.11.5"
  }
 },
 "nbformat": 4,
 "nbformat_minor": 2
}
